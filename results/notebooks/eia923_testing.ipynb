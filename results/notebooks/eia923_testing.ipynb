{
 "cells": [
  {
   "cell_type": "markdown",
   "metadata": {},
   "source": [
    "## EIA testing\n"
   ]
  },
  {
   "cell_type": "code",
   "execution_count": 1,
   "metadata": {},
   "outputs": [],
   "source": [
    "%load_ext autoreload\n",
    "%autoreload 2"
   ]
  },
  {
   "cell_type": "code",
   "execution_count": 2,
   "metadata": {},
   "outputs": [],
   "source": [
    "import sys\n",
    "import os\n",
    "import numpy as np\n",
    "import pandas as pd\n",
    "import matplotlib.pyplot as plt\n",
    "import matplotlib as mpl\n",
    "import pytest\n",
    "from decimal import Decimal\n",
    "from pudl import init, analysis, output\n",
    "import pudl.constants as pc\n",
    "import pudl.output.pudltabl\n",
    "\n",
    "%matplotlib inline"
   ]
  },
  {
   "cell_type": "code",
   "execution_count": 3,
   "metadata": {},
   "outputs": [],
   "source": [
    "# plt.style.use('ggplot')\n",
    "# mpl.rcParams['figure.figsize'] = (6,5)\n",
    "# mpl.rcParams['figure.dpi'] = 150\n",
    "pd.options.display.max_columns = 56"
   ]
  },
  {
   "cell_type": "code",
   "execution_count": 4,
   "metadata": {},
   "outputs": [],
   "source": [
    "pd.options.mode.use_inf_as_na = False"
   ]
  },
  {
   "cell_type": "code",
   "execution_count": 5,
   "metadata": {},
   "outputs": [],
   "source": [
    "pudl_out_eia = pudl.output.eia923 # Path to EIA923 tables, for use in test_frc_eia923 function"
   ]
  },
  {
   "cell_type": "markdown",
   "metadata": {},
   "source": [
    "## EIA 923 Fuel Receipts and Costs"
   ]
  },
  {
   "cell_type": "code",
   "execution_count": 6,
   "metadata": {},
   "outputs": [
    {
     "ename": "TypeError",
     "evalue": "fuel_receipts_costs_eia923() missing 1 required positional argument: 'pudl_engine'",
     "output_type": "error",
     "traceback": [
      "\u001b[0;31m---------------------------------------------------------------------------\u001b[0m",
      "\u001b[0;31mTypeError\u001b[0m                                 Traceback (most recent call last)",
      "\u001b[0;32m<ipython-input-6-8e8eaccde538>\u001b[0m in \u001b[0;36m<module>\u001b[0;34m\u001b[0m\n\u001b[0;32m----> 1\u001b[0;31m \u001b[0mfrc_eia923\u001b[0m \u001b[0;34m=\u001b[0m \u001b[0mpudl_out_eia\u001b[0m\u001b[0;34m.\u001b[0m\u001b[0mfuel_receipts_costs_eia923\u001b[0m\u001b[0;34m(\u001b[0m\u001b[0mfreq\u001b[0m\u001b[0;34m=\u001b[0m\u001b[0;32mNone\u001b[0m\u001b[0;34m)\u001b[0m \u001b[0;31m# Data frame of EIA923 FRC table\u001b[0m\u001b[0;34m\u001b[0m\u001b[0;34m\u001b[0m\u001b[0m\n\u001b[0m",
      "\u001b[0;31mTypeError\u001b[0m: fuel_receipts_costs_eia923() missing 1 required positional argument: 'pudl_engine'"
     ]
    }
   ],
   "source": [
    "frc_eia923 = pudl_out_eia.fuel_receipts_costs_eia923(freq=None) # Data frame of EIA923 FRC table"
   ]
  },
  {
   "cell_type": "code",
   "execution_count": null,
   "metadata": {},
   "outputs": [],
   "source": [
    "max_unit_fuel_cost = 35 # In $/mmbtu, threshold for identifying outlier records\n",
    "max_unit_heat_content = 32 # In mmbtu/fuel unit, threshold for identifying outlier records"
   ]
  },
  {
   "cell_type": "code",
   "execution_count": null,
   "metadata": {},
   "outputs": [],
   "source": [
    "# Function that approximates the test in pudl/scripts/test/validation/eia923_test.py\n",
    "def test_frc_eia923(pudl_out_eia, max_unit_fuel_cost = max_unit_fuel_cost, \n",
    "                    max_unit_heat_content = max_unit_heat_content, freq=None):\n",
    "    \"\"\"\n",
    "    Sanity checks for EIA 923 fuel costs and heat rates by unit.\n",
    "    \n",
    "    Args:\n",
    "        max_unit_fuel_cost (int): The threshold for identifying 'fuel_cost_per_mmbtu' records that exceed\n",
    "    \n",
    "        freq (None or str): Temporal scale of records to evaluate. It must be one of the following:\n",
    "            - None\n",
    "            - 'MS'\n",
    "            - 'YS'\n",
    "            \n",
    "    Returns print statement counting outlier records\n",
    "    \"\"\"\n",
    "        \n",
    "    # Verify the number of outliers for the fuel cost per mmbtu\n",
    "    frc_eia923 = pudl_out_eia.fuel_receipts_costs_eia923(freq=freq)\n",
    "\n",
    "    fuel_unit_outliers = len(frc_eia923.loc[(frc_eia923.fuel_cost_per_mmbtu > max_unit_fuel_cost) | \n",
    "                                        (frc_eia923.fuel_cost_per_mmbtu < 0)]) \n",
    "    \n",
    "    decimal = Decimal((fuel_unit_outliers/(len(frc_eia923)))*100)\n",
    "    proportion = round(decimal, 2)\n",
    "                    \n",
    "    print (f\"{fuel_unit_outliers} records, {proportion}% of the total, have outlier fuel unit costs\")\n",
    "    \n",
    "    heat_content_outliers = len(frc_eia923.loc[(frc_eia923.heat_content_mmbtu_per_unit > max_unit_heat_content) |\n",
    "                                           (frc_eia923.heat_content_mmbtu_per_unit < 0)])\n",
    "\n",
    "    decimal = Decimal((heat_content_outliers/(len(frc_eia923)))*100)\n",
    "    proportion = round(decimal, 2)\n",
    "\n",
    "    print (f\"{heat_content_outliers} records, {proportion}% of the total, have outlier heat unit values\")\n"
   ]
  },
  {
   "cell_type": "code",
   "execution_count": null,
   "metadata": {},
   "outputs": [],
   "source": [
    "# Run the function\n",
    "test_frc_eia923(pudl_out_eia)"
   ]
  },
  {
   "cell_type": "code",
   "execution_count": null,
   "metadata": {},
   "outputs": [],
   "source": [
    "test_frc_eia923(pudl_out_eia, freq='MS')"
   ]
  },
  {
   "cell_type": "code",
   "execution_count": null,
   "metadata": {},
   "outputs": [],
   "source": [
    "test_frc_eia923(pudl_out_eia, freq='YS')"
   ]
  },
  {
   "cell_type": "code",
   "execution_count": null,
   "metadata": {},
   "outputs": [],
   "source": [
    "# Plot the non-outlier values to see distribution\n",
    "plot_var = frc_eia923.fuel_cost_per_mmbtu.loc[(frc_eia923.fuel_cost_per_mmbtu < max_unit_fuel_cost) & \n",
    "                          (frc_eia923.fuel_cost_per_mmbtu > 0)]"
   ]
  },
  {
   "cell_type": "code",
   "execution_count": null,
   "metadata": {},
   "outputs": [],
   "source": [
    "plt.hist(plot_var, bins=60)\n",
    "plt.ylabel('# records')\n",
    "plt.xlabel(plot_var.name);"
   ]
  },
  {
   "cell_type": "code",
   "execution_count": null,
   "metadata": {},
   "outputs": [],
   "source": [
    "# Plot the non-outlier values to see distribution\n",
    "plot_var = frc_eia923.heat_content_mmbtu_per_unit[(frc_eia923.heat_content_mmbtu_per_unit <=  max_unit_heat_content) & \n",
    "                         (frc_eia923.heat_content_mmbtu_per_unit >=0)]"
   ]
  },
  {
   "cell_type": "code",
   "execution_count": null,
   "metadata": {},
   "outputs": [],
   "source": [
    "plt.hist(plot_var, bins=60)\n",
    "plt.ylabel('# records')\n",
    "plt.xlabel(plot_var.name);"
   ]
  }
 ],
 "metadata": {
  "kernelspec": {
   "display_name": "Python 3",
   "language": "python",
   "name": "python3"
  },
  "language_info": {
   "codemirror_mode": {
    "name": "ipython",
    "version": 3
   },
   "file_extension": ".py",
   "mimetype": "text/x-python",
   "name": "python",
   "nbconvert_exporter": "python",
   "pygments_lexer": "ipython3",
   "version": "3.7.3"
  }
 },
 "nbformat": 4,
 "nbformat_minor": 4
}
