{
 "cells": [
  {
   "cell_type": "markdown",
   "metadata": {},
   "source": [
    "## Regression Outline\n",
    "We have a set of manually categorized FERC plants with which to test the sklearn Classifier that we're making. We'll also use them to test the regression analysis here. What does this dataset look like, how was it created?\n",
    "* Pull FERC Plants table.\n",
    "* Using a variety of search methods, to ensure that we get a wide variety of plants, identify sets of records in the FERC Form 1 Plants table that are comparable inter-year records.\n",
    "\n",
    "\n",
    "For regressions, both OLS and sklearn approaches are explored.  Plant generation is normalized by using capacity factor."
   ]
  },
  {
   "cell_type": "code",
   "execution_count": 1,
   "metadata": {},
   "outputs": [],
   "source": [
    "%load_ext autoreload\n",
    "%autoreload 2"
   ]
  },
  {
   "cell_type": "code",
   "execution_count": null,
   "metadata": {},
   "outputs": [],
   "source": []
  },
  {
   "cell_type": "code",
   "execution_count": 2,
   "metadata": {},
   "outputs": [],
   "source": [
    "import sys\n",
    "import os\n",
    "import numpy as np\n",
    "\n",
    "import scipy\n",
    "import pandas as pd\n",
    "import statsmodels.api as sm\n",
    "import sklearn\n",
    "from sklearn import linear_model\n",
    "from pudl import init, analysis, settings, output\n",
    "import pudl.extract.ferc1\n",
    "import pudl.transform.ferc1\n",
    "import pudl.constants as pc\n",
    "import pudl.output.pudltabl\n",
    "import pudl.analysis.analysis\n",
    "import matplotlib.pyplot as plt\n",
    "import matplotlib as mpl\n",
    "import timezonefinder\n",
    "\n",
    "%matplotlib inline"
   ]
  },
  {
   "cell_type": "code",
   "execution_count": 3,
   "metadata": {},
   "outputs": [],
   "source": [
    "# For some reason these things don't stick if they're in the same cell as the\n",
    "# %matplotlib inline call above, but if they're separate, they work fine.\n",
    "plt.style.use('ggplot')\n",
    "mpl.rcParams['figure.figsize'] = (10,6)\n",
    "mpl.rcParams['figure.dpi'] = 150\n",
    "pd.options.display.max_columns = 56"
   ]
  },
  {
   "cell_type": "code",
   "execution_count": 4,
   "metadata": {
    "scrolled": false
   },
   "outputs": [],
   "source": [
    "pudl_out = pudl.output.pudltabl.PudlTabl()\n",
    "ferc1_fuel = pudl_out.fuel_ferc1()\n",
    "ferc1_steam = pudl_out.plants_steam_ferc1()\n",
    "# eia860_plants =  pudl.output.eia860.plants_eia860()\n",
    "# eia923_plants =  pudl.output.eia923.plants_eia923()"
   ]
  },
  {
   "cell_type": "markdown",
   "metadata": {},
   "source": [
    "## Aggregate data from FERC 1 Fuel"
   ]
  },
  {
   "cell_type": "code",
   "execution_count": 5,
   "metadata": {},
   "outputs": [],
   "source": [
    "# For each plant record in the plants table, we need to be able to assign\n",
    "# a fraction of heat content for that plant that came from a particlar fuel\n",
    "# for filtering purposes. There are different ways that we can aggregate that\n",
    "# information -- e.g. plant_id_pudl, plant_id_ferc1, (utility_id_ferc1, plant_name)\n",
    "def coal_fraction(fuel_df, gb_cols=['plant_id_pudl']):\n",
    "    \"\"\"\n",
    "    Calculate the fraction of overall heat content from coal\n",
    "    per year and per gb_cols, which can be:\n",
    "      - [plant_id_pudl]\n",
    "      - [plant_id_ferc1]\n",
    "      - [utility_id_ferc1, plant_name]\n",
    "    \n",
    "    Assumes fuel_df is a fuel_ferc1 dataframe.\n",
    "    Cannot currently work for arbitrary fuel_type becuase not all plants\n",
    "    have records for all fuel types.\n",
    "    \"\"\"\n",
    "    gb_cols1 = ['report_year'] + gb_cols\n",
    "    \n",
    "    # Total heat content across all fuel types\n",
    "    total_mmbtu = (\n",
    "        fuel_df.groupby(gb_cols1).\n",
    "        agg({'fuel_consumed_mmbtu': sum}).\n",
    "        reset_index().\n",
    "        rename(columns={'fuel_consumed_mmbtu': 'total_mmbtu'})\n",
    "    )\n",
    "    \n",
    "    # Same grouping... but also broken down by fuel type\n",
    "    gb_cols2 = gb_cols1 + ['fuel_type_code_pudl']\n",
    "    out_df = (\n",
    "        fuel_df[fuel_df.fuel_type_code_pudl=='coal'].\n",
    "        groupby(gb_cols2).\n",
    "        agg({'fuel_consumed_mmbtu': sum}).\n",
    "        reset_index().\n",
    "        merge(total_mmbtu, how='left', on=gb_cols1).\n",
    "        assign(coal_fraction=lambda x: x['fuel_consumed_mmbtu'] / x['total_mmbtu']).\n",
    "        rename(columns={'fuel_consumed_mmbtu': 'coal_mmbtu'})\n",
    "    )\n",
    "    return out_df"
   ]
  },
  {
   "cell_type": "code",
   "execution_count": 6,
   "metadata": {},
   "outputs": [],
   "source": [
    "ferc_cols_to_keep = ['report_year', 'utility_id_ferc1', 'utility_id_pudl',\n",
    "                     'utility_name_ferc1', 'plant_id_pudl', 'plant_id_ferc1', 'plant_name', 'plant_type','installation_year',\n",
    "                     'opex_per_mwh']"
   ]
  },
  {
   "cell_type": "code",
   "execution_count": 7,
   "metadata": {},
   "outputs": [],
   "source": [
    "# Calculate total heat content of fuel by plant & year\n",
    "fuel_consumed_mmbtu = (\n",
    "    ferc1_fuel.loc[ferc1_fuel.report_year>=2012,:].\n",
    "    groupby(['report_year', 'plant_id_pudl']).\n",
    "    agg({'fuel_consumed_mmbtu': sum}).\n",
    "    reset_index()\n",
    ")\n",
    "\n",
    "coal_fraction_by_plant_name = coal_fraction(ferc1_fuel.loc[ferc1_fuel.report_year>=2004,:], ['utility_id_ferc1', 'plant_name'])\n"
   ]
  },
  {
   "cell_type": "code",
   "execution_count": 8,
   "metadata": {},
   "outputs": [],
   "source": [
    "# New coal fraction estimation using this function - still need to fix column name changes this induces\n",
    "# coal_fraction_by_plant_name = pudl.transform.ferc1.fuel_by_plant_ferc1(ferc1_fuel)"
   ]
  },
  {
   "cell_type": "code",
   "execution_count": 9,
   "metadata": {},
   "outputs": [
    {
     "data": {
      "text/plain": [
       "Index(['report_year', 'utility_id_ferc1', 'plant_name', 'fuel_type_code_pudl',\n",
       "       'coal_mmbtu', 'total_mmbtu', 'coal_fraction'],\n",
       "      dtype='object')"
      ]
     },
     "execution_count": 9,
     "metadata": {},
     "output_type": "execute_result"
    }
   ],
   "source": [
    "coal_fraction_by_plant_name.columns"
   ]
  },
  {
   "cell_type": "code",
   "execution_count": 10,
   "metadata": {},
   "outputs": [],
   "source": [
    "steam_agg_ferc1 = (\n",
    "    # Only interested in 2004 and later\n",
    "    ferc1_steam.loc[ferc1_steam.report_year>=2004,:].\n",
    "    # This ensures we only include plants that use *some* coal\n",
    "    merge(coal_fraction_by_plant_name, how='inner', on=['report_year', 'utility_id_ferc1', 'plant_name']).\n",
    "    # Break out the non-fuel OpEx\n",
    "    assign(opex_nonfuel=lambda x: x['opex_production_total'] - x['opex_fuel']).\n",
    "    # Aggregate by plant_id_pudl\n",
    "    groupby(['report_year','plant_id_pudl']).\n",
    "    agg({'capacity_mw': sum,\n",
    "         'net_generation_mwh': sum,\n",
    "         'opex_fuel': sum,\n",
    "         'opex_nonfuel': sum,\n",
    "        'opex_allowances': sum,\n",
    "        'opex_boiler': sum,\n",
    "        'avg_num_employees': sum,\n",
    "         'opex_electric': sum,\n",
    "         'opex_engineering': sum,\n",
    "         'opex_misc_power': sum,\n",
    "         'opex_misc_steam': sum,\n",
    "         'opex_operations': sum,\n",
    "         'opex_plants': sum,\n",
    "         'opex_production_total': sum,\n",
    "         'opex_rents': sum,\n",
    "         'opex_steam': sum,\n",
    "         'opex_steam_other': sum,\n",
    "         'opex_structures': sum,\n",
    "         'opex_transfer': sum       \n",
    "        }).\n",
    "    reset_index().\n",
    "    # Bring in total heat content per pudl_plant\n",
    "    merge(fuel_consumed_mmbtu, how='left', on=['report_year', 'plant_id_pudl']).\n",
    "    # Calculate some other interesting metrics:\n",
    "    assign(opex_fuel_per_mwh=lambda x: x['opex_fuel'] / x['net_generation_mwh'],\n",
    "           opex_nonfuel_per_mwh=lambda x: x['opex_nonfuel'] / x['net_generation_mwh'],\n",
    "           heat_rate_mmbtu_mwh=lambda x: x['fuel_consumed_mmbtu'] / x['net_generation_mwh'],\n",
    "           capacity_factor=lambda x: x['net_generation_mwh'] / (8760*x['capacity_mw']),\n",
    "           opex_total_per_mwh=lambda x: x['opex_nonfuel_per_mwh'] + x['opex_fuel_per_mwh']).\n",
    "    merge(ferc1_steam[ferc_cols_to_keep],how='left',on=['report_year','plant_id_pudl',])\n",
    ")"
   ]
  },
  {
   "cell_type": "code",
   "execution_count": 11,
   "metadata": {},
   "outputs": [],
   "source": [
    "coal_plants = coal_fraction_by_plant_name[coal_fraction_by_plant_name.coal_fraction >= 0.85] # returns ?% of records"
   ]
  },
  {
   "cell_type": "code",
   "execution_count": 12,
   "metadata": {},
   "outputs": [
    {
     "data": {
      "text/html": [
       "<div>\n",
       "<style scoped>\n",
       "    .dataframe tbody tr th:only-of-type {\n",
       "        vertical-align: middle;\n",
       "    }\n",
       "\n",
       "    .dataframe tbody tr th {\n",
       "        vertical-align: top;\n",
       "    }\n",
       "\n",
       "    .dataframe thead th {\n",
       "        text-align: right;\n",
       "    }\n",
       "</style>\n",
       "<table border=\"1\" class=\"dataframe\">\n",
       "  <thead>\n",
       "    <tr style=\"text-align: right;\">\n",
       "      <th></th>\n",
       "      <th>report_year</th>\n",
       "      <th>utility_id_ferc1</th>\n",
       "      <th>plant_name</th>\n",
       "      <th>fuel_type_code_pudl</th>\n",
       "      <th>coal_mmbtu</th>\n",
       "      <th>total_mmbtu</th>\n",
       "      <th>coal_fraction</th>\n",
       "    </tr>\n",
       "  </thead>\n",
       "  <tbody>\n",
       "    <tr>\n",
       "      <th>27</th>\n",
       "      <td>2004</td>\n",
       "      <td>22</td>\n",
       "      <td>dolet hills</td>\n",
       "      <td>coal</td>\n",
       "      <td>2.634649e+07</td>\n",
       "      <td>2.639074e+07</td>\n",
       "      <td>0.998323</td>\n",
       "    </tr>\n",
       "    <tr>\n",
       "      <th>344</th>\n",
       "      <td>2005</td>\n",
       "      <td>22</td>\n",
       "      <td>dolet hills</td>\n",
       "      <td>coal</td>\n",
       "      <td>2.711849e+07</td>\n",
       "      <td>2.711849e+07</td>\n",
       "      <td>1.000000</td>\n",
       "    </tr>\n",
       "    <tr>\n",
       "      <th>666</th>\n",
       "      <td>2006</td>\n",
       "      <td>22</td>\n",
       "      <td>dolet hills</td>\n",
       "      <td>coal</td>\n",
       "      <td>2.614793e+07</td>\n",
       "      <td>2.619507e+07</td>\n",
       "      <td>0.998201</td>\n",
       "    </tr>\n",
       "    <tr>\n",
       "      <th>990</th>\n",
       "      <td>2007</td>\n",
       "      <td>22</td>\n",
       "      <td>dolet hills</td>\n",
       "      <td>coal</td>\n",
       "      <td>2.110518e+07</td>\n",
       "      <td>2.118594e+07</td>\n",
       "      <td>0.996188</td>\n",
       "    </tr>\n",
       "    <tr>\n",
       "      <th>1309</th>\n",
       "      <td>2008</td>\n",
       "      <td>22</td>\n",
       "      <td>dolet hills</td>\n",
       "      <td>coal</td>\n",
       "      <td>2.769405e+07</td>\n",
       "      <td>2.773419e+07</td>\n",
       "      <td>0.998553</td>\n",
       "    </tr>\n",
       "    <tr>\n",
       "      <th>1628</th>\n",
       "      <td>2009</td>\n",
       "      <td>22</td>\n",
       "      <td>dolet hills</td>\n",
       "      <td>coal</td>\n",
       "      <td>2.577071e+07</td>\n",
       "      <td>2.584716e+07</td>\n",
       "      <td>0.997042</td>\n",
       "    </tr>\n",
       "  </tbody>\n",
       "</table>\n",
       "</div>"
      ],
      "text/plain": [
       "      report_year  utility_id_ferc1   plant_name fuel_type_code_pudl  \\\n",
       "27           2004                22  dolet hills                coal   \n",
       "344          2005                22  dolet hills                coal   \n",
       "666          2006                22  dolet hills                coal   \n",
       "990          2007                22  dolet hills                coal   \n",
       "1309         2008                22  dolet hills                coal   \n",
       "1628         2009                22  dolet hills                coal   \n",
       "\n",
       "        coal_mmbtu   total_mmbtu  coal_fraction  \n",
       "27    2.634649e+07  2.639074e+07       0.998323  \n",
       "344   2.711849e+07  2.711849e+07       1.000000  \n",
       "666   2.614793e+07  2.619507e+07       0.998201  \n",
       "990   2.110518e+07  2.118594e+07       0.996188  \n",
       "1309  2.769405e+07  2.773419e+07       0.998553  \n",
       "1628  2.577071e+07  2.584716e+07       0.997042  "
      ]
     },
     "execution_count": 12,
     "metadata": {},
     "output_type": "execute_result"
    }
   ],
   "source": [
    "coal_plants[coal_plants.plant_name=='dolet hills']"
   ]
  },
  {
   "cell_type": "code",
   "execution_count": 13,
   "metadata": {},
   "outputs": [],
   "source": [
    "## This function call replaced by coal fraction calculation\n",
    "# fuel_df_plant = ferc1_aggregate_by_fuel_type(ferc1_fuel, fuels=['coal'])"
   ]
  },
  {
   "cell_type": "code",
   "execution_count": 14,
   "metadata": {},
   "outputs": [],
   "source": [
    "new = pd.merge(steam_agg_ferc1, coal_plants, on=['plant_name', 'utility_id_ferc1', 'report_year'], how='right')"
   ]
  },
  {
   "cell_type": "code",
   "execution_count": 15,
   "metadata": {},
   "outputs": [
    {
     "data": {
      "text/html": [
       "<div>\n",
       "<style scoped>\n",
       "    .dataframe tbody tr th:only-of-type {\n",
       "        vertical-align: middle;\n",
       "    }\n",
       "\n",
       "    .dataframe tbody tr th {\n",
       "        vertical-align: top;\n",
       "    }\n",
       "\n",
       "    .dataframe thead th {\n",
       "        text-align: right;\n",
       "    }\n",
       "</style>\n",
       "<table border=\"1\" class=\"dataframe\">\n",
       "  <thead>\n",
       "    <tr style=\"text-align: right;\">\n",
       "      <th></th>\n",
       "      <th>report_year</th>\n",
       "      <th>plant_id_pudl</th>\n",
       "      <th>capacity_mw</th>\n",
       "      <th>net_generation_mwh</th>\n",
       "      <th>opex_fuel</th>\n",
       "      <th>opex_nonfuel</th>\n",
       "      <th>opex_allowances</th>\n",
       "      <th>opex_boiler</th>\n",
       "      <th>avg_num_employees</th>\n",
       "      <th>opex_electric</th>\n",
       "      <th>opex_engineering</th>\n",
       "      <th>opex_misc_power</th>\n",
       "      <th>opex_misc_steam</th>\n",
       "      <th>opex_operations</th>\n",
       "      <th>opex_plants</th>\n",
       "      <th>opex_production_total</th>\n",
       "      <th>opex_rents</th>\n",
       "      <th>opex_steam</th>\n",
       "      <th>opex_steam_other</th>\n",
       "      <th>opex_structures</th>\n",
       "      <th>opex_transfer</th>\n",
       "      <th>fuel_consumed_mmbtu</th>\n",
       "      <th>opex_fuel_per_mwh</th>\n",
       "      <th>opex_nonfuel_per_mwh</th>\n",
       "      <th>heat_rate_mmbtu_mwh</th>\n",
       "      <th>capacity_factor</th>\n",
       "      <th>opex_total_per_mwh</th>\n",
       "      <th>utility_id_ferc1</th>\n",
       "      <th>utility_id_pudl</th>\n",
       "      <th>utility_name_ferc1</th>\n",
       "      <th>plant_id_ferc1</th>\n",
       "      <th>plant_name</th>\n",
       "      <th>plant_type</th>\n",
       "      <th>installation_year</th>\n",
       "      <th>opex_per_mwh</th>\n",
       "      <th>fuel_type_code_pudl</th>\n",
       "      <th>coal_mmbtu</th>\n",
       "      <th>total_mmbtu</th>\n",
       "      <th>coal_fraction</th>\n",
       "    </tr>\n",
       "  </thead>\n",
       "  <tbody>\n",
       "    <tr>\n",
       "      <th>0</th>\n",
       "      <td>2004</td>\n",
       "      <td>1</td>\n",
       "      <td>1010.74</td>\n",
       "      <td>4268739.0</td>\n",
       "      <td>80143963.0</td>\n",
       "      <td>19262788.0</td>\n",
       "      <td>5959.0</td>\n",
       "      <td>9463310.0</td>\n",
       "      <td>99.0</td>\n",
       "      <td>883179.0</td>\n",
       "      <td>975077.0</td>\n",
       "      <td>3751064.0</td>\n",
       "      <td>1018105.0</td>\n",
       "      <td>566528.0</td>\n",
       "      <td>484352.0</td>\n",
       "      <td>99406751.0</td>\n",
       "      <td>0.0</td>\n",
       "      <td>1898592.0</td>\n",
       "      <td>0.0</td>\n",
       "      <td>216622.0</td>\n",
       "      <td>0.0</td>\n",
       "      <td>NaN</td>\n",
       "      <td>18.774622</td>\n",
       "      <td>4.512524</td>\n",
       "      <td>NaN</td>\n",
       "      <td>0.482121</td>\n",
       "      <td>23.287147</td>\n",
       "      <td>164</td>\n",
       "      <td>301</td>\n",
       "      <td>Southwestern Electric Power Company</td>\n",
       "      <td>459</td>\n",
       "      <td>*dolet hills (3)</td>\n",
       "      <td>steam</td>\n",
       "      <td>1986.0</td>\n",
       "      <td>24.6</td>\n",
       "      <td>coal</td>\n",
       "      <td>2.159017e+07</td>\n",
       "      <td>2.162697e+07</td>\n",
       "      <td>0.998298</td>\n",
       "    </tr>\n",
       "    <tr>\n",
       "      <th>1</th>\n",
       "      <td>2004</td>\n",
       "      <td>1</td>\n",
       "      <td>1010.74</td>\n",
       "      <td>4268739.0</td>\n",
       "      <td>80143963.0</td>\n",
       "      <td>19262788.0</td>\n",
       "      <td>5959.0</td>\n",
       "      <td>9463310.0</td>\n",
       "      <td>99.0</td>\n",
       "      <td>883179.0</td>\n",
       "      <td>975077.0</td>\n",
       "      <td>3751064.0</td>\n",
       "      <td>1018105.0</td>\n",
       "      <td>566528.0</td>\n",
       "      <td>484352.0</td>\n",
       "      <td>99406751.0</td>\n",
       "      <td>0.0</td>\n",
       "      <td>1898592.0</td>\n",
       "      <td>0.0</td>\n",
       "      <td>216622.0</td>\n",
       "      <td>0.0</td>\n",
       "      <td>NaN</td>\n",
       "      <td>18.774622</td>\n",
       "      <td>4.512524</td>\n",
       "      <td>NaN</td>\n",
       "      <td>0.482121</td>\n",
       "      <td>23.287147</td>\n",
       "      <td>22</td>\n",
       "      <td>69</td>\n",
       "      <td>Cleco Power LLC</td>\n",
       "      <td>708</td>\n",
       "      <td>dolet hills</td>\n",
       "      <td>steam</td>\n",
       "      <td>1986.0</td>\n",
       "      <td>22.2</td>\n",
       "      <td>coal</td>\n",
       "      <td>2.634649e+07</td>\n",
       "      <td>2.639074e+07</td>\n",
       "      <td>0.998323</td>\n",
       "    </tr>\n",
       "  </tbody>\n",
       "</table>\n",
       "</div>"
      ],
      "text/plain": [
       "   report_year  plant_id_pudl  capacity_mw  net_generation_mwh   opex_fuel  \\\n",
       "0         2004              1      1010.74           4268739.0  80143963.0   \n",
       "1         2004              1      1010.74           4268739.0  80143963.0   \n",
       "\n",
       "   opex_nonfuel  opex_allowances  opex_boiler  avg_num_employees  \\\n",
       "0    19262788.0           5959.0    9463310.0               99.0   \n",
       "1    19262788.0           5959.0    9463310.0               99.0   \n",
       "\n",
       "   opex_electric  opex_engineering  opex_misc_power  opex_misc_steam  \\\n",
       "0       883179.0          975077.0        3751064.0        1018105.0   \n",
       "1       883179.0          975077.0        3751064.0        1018105.0   \n",
       "\n",
       "   opex_operations  opex_plants  opex_production_total  opex_rents  \\\n",
       "0         566528.0     484352.0             99406751.0         0.0   \n",
       "1         566528.0     484352.0             99406751.0         0.0   \n",
       "\n",
       "   opex_steam  opex_steam_other  opex_structures  opex_transfer  \\\n",
       "0   1898592.0               0.0         216622.0            0.0   \n",
       "1   1898592.0               0.0         216622.0            0.0   \n",
       "\n",
       "   fuel_consumed_mmbtu  opex_fuel_per_mwh  opex_nonfuel_per_mwh  \\\n",
       "0                  NaN          18.774622              4.512524   \n",
       "1                  NaN          18.774622              4.512524   \n",
       "\n",
       "   heat_rate_mmbtu_mwh  capacity_factor  opex_total_per_mwh  utility_id_ferc1  \\\n",
       "0                  NaN         0.482121           23.287147               164   \n",
       "1                  NaN         0.482121           23.287147                22   \n",
       "\n",
       "   utility_id_pudl                   utility_name_ferc1  plant_id_ferc1  \\\n",
       "0              301  Southwestern Electric Power Company             459   \n",
       "1               69                      Cleco Power LLC             708   \n",
       "\n",
       "         plant_name plant_type  installation_year  opex_per_mwh  \\\n",
       "0  *dolet hills (3)      steam             1986.0          24.6   \n",
       "1       dolet hills      steam             1986.0          22.2   \n",
       "\n",
       "  fuel_type_code_pudl    coal_mmbtu   total_mmbtu  coal_fraction  \n",
       "0                coal  2.159017e+07  2.162697e+07       0.998298  \n",
       "1                coal  2.634649e+07  2.639074e+07       0.998323  "
      ]
     },
     "execution_count": 15,
     "metadata": {},
     "output_type": "execute_result"
    }
   ],
   "source": [
    "new.head(2)"
   ]
  },
  {
   "cell_type": "code",
   "execution_count": 16,
   "metadata": {},
   "outputs": [],
   "source": [
    "# new.groupby(['report_year','plant_id_pudl', 'capacity_mw', 'net_generation_mwh', 'opex_fuel',\n",
    "#             'opex_nonfuel','avg_num_employees','opex_production_total','fuel_consumed_mmbtu', 'opex_fuel_per_mwh',\n",
    "#             'opex_nonfuel_per_mwh','heat_rate_mmbtu_mwh','capacity_factor','opex_total_per_mwh', 'installation_year'], as_index=False).agg({'coal_fraction_mmbtu':sum,\n",
    "#          'fuel_mmbtu':sum}, as_index=False)\n",
    "\n",
    "# With previous version of coal_fraction function\n",
    "new.groupby(['report_year','plant_id_pudl', 'capacity_mw', 'net_generation_mwh', 'opex_fuel',\n",
    "            'opex_nonfuel','avg_num_employees','opex_production_total','fuel_consumed_mmbtu', 'opex_fuel_per_mwh',\n",
    "            'opex_nonfuel_per_mwh','heat_rate_mmbtu_mwh','capacity_factor','opex_total_per_mwh', 'installation_year'], as_index=False).agg({'coal_mmbtu': sum,\n",
    "         'total_mmbtu':sum}, as_index=False);"
   ]
  },
  {
   "cell_type": "code",
   "execution_count": null,
   "metadata": {},
   "outputs": [],
   "source": []
  },
  {
   "cell_type": "raw",
   "metadata": {},
   "source": [
    "pd.options.mode.chained_assignment = None  # default='warn'"
   ]
  },
  {
   "cell_type": "code",
   "execution_count": 17,
   "metadata": {},
   "outputs": [],
   "source": [
    "new.installation_year = pd.to_numeric(new.installation_year, errors='coerce')"
   ]
  },
  {
   "cell_type": "code",
   "execution_count": 18,
   "metadata": {},
   "outputs": [
    {
     "data": {
      "text/plain": [
       "array(['steam', 'combustion_turbine', None, 'internal_combustion',\n",
       "       'nuclear', 'combined_cycle'], dtype=object)"
      ]
     },
     "execution_count": 18,
     "metadata": {},
     "output_type": "execute_result"
    }
   ],
   "source": [
    "# What types of fuel are included in the training data set?\n",
    "new.plant_type.unique()"
   ]
  },
  {
   "cell_type": "code",
   "execution_count": 19,
   "metadata": {},
   "outputs": [
    {
     "data": {
      "text/html": [
       "<div>\n",
       "<style scoped>\n",
       "    .dataframe tbody tr th:only-of-type {\n",
       "        vertical-align: middle;\n",
       "    }\n",
       "\n",
       "    .dataframe tbody tr th {\n",
       "        vertical-align: top;\n",
       "    }\n",
       "\n",
       "    .dataframe thead th {\n",
       "        text-align: right;\n",
       "    }\n",
       "</style>\n",
       "<table border=\"1\" class=\"dataframe\">\n",
       "  <thead>\n",
       "    <tr style=\"text-align: right;\">\n",
       "      <th></th>\n",
       "      <th>report_year</th>\n",
       "      <th>plant_id_pudl</th>\n",
       "      <th>capacity_mw</th>\n",
       "      <th>net_generation_mwh</th>\n",
       "      <th>opex_fuel</th>\n",
       "      <th>opex_nonfuel</th>\n",
       "      <th>opex_allowances</th>\n",
       "      <th>opex_boiler</th>\n",
       "      <th>avg_num_employees</th>\n",
       "      <th>opex_electric</th>\n",
       "      <th>opex_engineering</th>\n",
       "      <th>opex_misc_power</th>\n",
       "      <th>opex_misc_steam</th>\n",
       "      <th>opex_operations</th>\n",
       "      <th>opex_plants</th>\n",
       "      <th>opex_production_total</th>\n",
       "      <th>opex_rents</th>\n",
       "      <th>opex_steam</th>\n",
       "      <th>opex_steam_other</th>\n",
       "      <th>opex_structures</th>\n",
       "      <th>opex_transfer</th>\n",
       "      <th>fuel_consumed_mmbtu</th>\n",
       "      <th>opex_fuel_per_mwh</th>\n",
       "      <th>opex_nonfuel_per_mwh</th>\n",
       "      <th>heat_rate_mmbtu_mwh</th>\n",
       "      <th>capacity_factor</th>\n",
       "      <th>opex_total_per_mwh</th>\n",
       "      <th>utility_id_ferc1</th>\n",
       "      <th>utility_id_pudl</th>\n",
       "      <th>utility_name_ferc1</th>\n",
       "      <th>plant_id_ferc1</th>\n",
       "      <th>plant_name</th>\n",
       "      <th>plant_type</th>\n",
       "      <th>installation_year</th>\n",
       "      <th>opex_per_mwh</th>\n",
       "      <th>fuel_type_code_pudl</th>\n",
       "      <th>coal_mmbtu</th>\n",
       "      <th>total_mmbtu</th>\n",
       "      <th>coal_fraction</th>\n",
       "    </tr>\n",
       "  </thead>\n",
       "  <tbody>\n",
       "    <tr>\n",
       "      <th>1167</th>\n",
       "      <td>2007</td>\n",
       "      <td>236</td>\n",
       "      <td>991.64</td>\n",
       "      <td>6915236.0</td>\n",
       "      <td>59256251.0</td>\n",
       "      <td>100983818.0</td>\n",
       "      <td>1568348.0</td>\n",
       "      <td>15345478.0</td>\n",
       "      <td>432.0</td>\n",
       "      <td>2637837.0</td>\n",
       "      <td>16204272.0</td>\n",
       "      <td>35817259.0</td>\n",
       "      <td>3755137.0</td>\n",
       "      <td>1864418.0</td>\n",
       "      <td>1639943.0</td>\n",
       "      <td>160240069.0</td>\n",
       "      <td>0.0</td>\n",
       "      <td>7482168.0</td>\n",
       "      <td>0.0</td>\n",
       "      <td>9768378.0</td>\n",
       "      <td>0.0</td>\n",
       "      <td>NaN</td>\n",
       "      <td>8.568941</td>\n",
       "      <td>14.603091</td>\n",
       "      <td>NaN</td>\n",
       "      <td>0.796066</td>\n",
       "      <td>23.172032</td>\n",
       "      <td>17</td>\n",
       "      <td>97</td>\n",
       "      <td>Duke Energy Progress, Inc.</td>\n",
       "      <td>68</td>\n",
       "      <td>h.b. robinson</td>\n",
       "      <td>nuclear</td>\n",
       "      <td>1971.0</td>\n",
       "      <td>21.0</td>\n",
       "      <td>coal</td>\n",
       "      <td>3.561636e+07</td>\n",
       "      <td>3.569841e+07</td>\n",
       "      <td>0.997702</td>\n",
       "    </tr>\n",
       "    <tr>\n",
       "      <th>1515</th>\n",
       "      <td>2008</td>\n",
       "      <td>236</td>\n",
       "      <td>991.58</td>\n",
       "      <td>6445976.0</td>\n",
       "      <td>56999047.0</td>\n",
       "      <td>118198990.0</td>\n",
       "      <td>1619121.0</td>\n",
       "      <td>19409124.0</td>\n",
       "      <td>456.0</td>\n",
       "      <td>2882772.0</td>\n",
       "      <td>20025268.0</td>\n",
       "      <td>41614235.0</td>\n",
       "      <td>5051814.0</td>\n",
       "      <td>1933758.0</td>\n",
       "      <td>6069879.0</td>\n",
       "      <td>175198037.0</td>\n",
       "      <td>0.0</td>\n",
       "      <td>9905998.0</td>\n",
       "      <td>0.0</td>\n",
       "      <td>4255394.0</td>\n",
       "      <td>0.0</td>\n",
       "      <td>NaN</td>\n",
       "      <td>8.842578</td>\n",
       "      <td>18.336865</td>\n",
       "      <td>NaN</td>\n",
       "      <td>0.742090</td>\n",
       "      <td>27.179443</td>\n",
       "      <td>17</td>\n",
       "      <td>97</td>\n",
       "      <td>Duke Energy Progress, Inc.</td>\n",
       "      <td>68</td>\n",
       "      <td>h.b. robinson</td>\n",
       "      <td>nuclear</td>\n",
       "      <td>1971.0</td>\n",
       "      <td>24.1</td>\n",
       "      <td>coal</td>\n",
       "      <td>3.108909e+07</td>\n",
       "      <td>3.115105e+07</td>\n",
       "      <td>0.998011</td>\n",
       "    </tr>\n",
       "    <tr>\n",
       "      <th>1858</th>\n",
       "      <td>2009</td>\n",
       "      <td>236</td>\n",
       "      <td>972.85</td>\n",
       "      <td>7405733.0</td>\n",
       "      <td>72803775.0</td>\n",
       "      <td>83117386.0</td>\n",
       "      <td>1161292.0</td>\n",
       "      <td>8428191.0</td>\n",
       "      <td>454.0</td>\n",
       "      <td>2932955.0</td>\n",
       "      <td>11620825.0</td>\n",
       "      <td>39337257.0</td>\n",
       "      <td>3041756.0</td>\n",
       "      <td>2410468.0</td>\n",
       "      <td>1472575.0</td>\n",
       "      <td>155921161.0</td>\n",
       "      <td>0.0</td>\n",
       "      <td>6385438.0</td>\n",
       "      <td>0.0</td>\n",
       "      <td>1735373.0</td>\n",
       "      <td>0.0</td>\n",
       "      <td>NaN</td>\n",
       "      <td>9.830732</td>\n",
       "      <td>11.223384</td>\n",
       "      <td>NaN</td>\n",
       "      <td>0.868997</td>\n",
       "      <td>21.054116</td>\n",
       "      <td>17</td>\n",
       "      <td>97</td>\n",
       "      <td>Duke Energy Progress, Inc.</td>\n",
       "      <td>68</td>\n",
       "      <td>h.b. robinson</td>\n",
       "      <td>nuclear</td>\n",
       "      <td>1971.0</td>\n",
       "      <td>17.5</td>\n",
       "      <td>coal</td>\n",
       "      <td>2.915212e+07</td>\n",
       "      <td>2.917190e+07</td>\n",
       "      <td>0.999322</td>\n",
       "    </tr>\n",
       "    <tr>\n",
       "      <th>2198</th>\n",
       "      <td>2010</td>\n",
       "      <td>236</td>\n",
       "      <td>972.85</td>\n",
       "      <td>4602948.0</td>\n",
       "      <td>64693238.0</td>\n",
       "      <td>143555962.0</td>\n",
       "      <td>665839.0</td>\n",
       "      <td>39632395.0</td>\n",
       "      <td>394.0</td>\n",
       "      <td>3034134.0</td>\n",
       "      <td>22657600.0</td>\n",
       "      <td>45278687.0</td>\n",
       "      <td>4675188.0</td>\n",
       "      <td>2622245.0</td>\n",
       "      <td>4219829.0</td>\n",
       "      <td>208249200.0</td>\n",
       "      <td>0.0</td>\n",
       "      <td>11122373.0</td>\n",
       "      <td>0.0</td>\n",
       "      <td>3993375.0</td>\n",
       "      <td>0.0</td>\n",
       "      <td>NaN</td>\n",
       "      <td>14.054740</td>\n",
       "      <td>31.187830</td>\n",
       "      <td>NaN</td>\n",
       "      <td>0.540115</td>\n",
       "      <td>45.242571</td>\n",
       "      <td>17</td>\n",
       "      <td>97</td>\n",
       "      <td>Duke Energy Progress, Inc.</td>\n",
       "      <td>68</td>\n",
       "      <td>h.b. robinson</td>\n",
       "      <td>nuclear</td>\n",
       "      <td>1971.0</td>\n",
       "      <td>44.7</td>\n",
       "      <td>coal</td>\n",
       "      <td>3.056065e+07</td>\n",
       "      <td>3.059554e+07</td>\n",
       "      <td>0.998859</td>\n",
       "    </tr>\n",
       "    <tr>\n",
       "      <th>2529</th>\n",
       "      <td>2011</td>\n",
       "      <td>236</td>\n",
       "      <td>972.85</td>\n",
       "      <td>6932566.0</td>\n",
       "      <td>64339588.0</td>\n",
       "      <td>121714880.0</td>\n",
       "      <td>292584.0</td>\n",
       "      <td>18868442.0</td>\n",
       "      <td>407.0</td>\n",
       "      <td>3301312.0</td>\n",
       "      <td>10217228.0</td>\n",
       "      <td>72290502.0</td>\n",
       "      <td>5132130.0</td>\n",
       "      <td>3077218.0</td>\n",
       "      <td>2326594.0</td>\n",
       "      <td>186054468.0</td>\n",
       "      <td>0.0</td>\n",
       "      <td>224560.0</td>\n",
       "      <td>0.0</td>\n",
       "      <td>1933019.0</td>\n",
       "      <td>0.0</td>\n",
       "      <td>NaN</td>\n",
       "      <td>9.280775</td>\n",
       "      <td>17.556974</td>\n",
       "      <td>NaN</td>\n",
       "      <td>0.813475</td>\n",
       "      <td>26.837749</td>\n",
       "      <td>17</td>\n",
       "      <td>97</td>\n",
       "      <td>Duke Energy Progress, Inc.</td>\n",
       "      <td>68</td>\n",
       "      <td>h.b. robinson</td>\n",
       "      <td>nuclear</td>\n",
       "      <td>1971.0</td>\n",
       "      <td>24.1</td>\n",
       "      <td>coal</td>\n",
       "      <td>1.715570e+07</td>\n",
       "      <td>1.722858e+07</td>\n",
       "      <td>0.995770</td>\n",
       "    </tr>\n",
       "    <tr>\n",
       "      <th>2860</th>\n",
       "      <td>2012</td>\n",
       "      <td>236</td>\n",
       "      <td>1033.80</td>\n",
       "      <td>5602883.0</td>\n",
       "      <td>54438733.0</td>\n",
       "      <td>206567942.0</td>\n",
       "      <td>89350.0</td>\n",
       "      <td>45394450.0</td>\n",
       "      <td>492.0</td>\n",
       "      <td>3088086.0</td>\n",
       "      <td>17413703.0</td>\n",
       "      <td>91667444.0</td>\n",
       "      <td>4703236.0</td>\n",
       "      <td>3165471.0</td>\n",
       "      <td>20746302.0</td>\n",
       "      <td>261006675.0</td>\n",
       "      <td>0.0</td>\n",
       "      <td>11574131.0</td>\n",
       "      <td>0.0</td>\n",
       "      <td>4183063.0</td>\n",
       "      <td>0.0</td>\n",
       "      <td>7.103493e+06</td>\n",
       "      <td>9.716200</td>\n",
       "      <td>36.868152</td>\n",
       "      <td>1.267828</td>\n",
       "      <td>0.618687</td>\n",
       "      <td>46.584352</td>\n",
       "      <td>17</td>\n",
       "      <td>97</td>\n",
       "      <td>Duke Energy Progress, Inc.</td>\n",
       "      <td>68</td>\n",
       "      <td>h.b. robinson</td>\n",
       "      <td>nuclear</td>\n",
       "      <td>1971.0</td>\n",
       "      <td>44.6</td>\n",
       "      <td>coal</td>\n",
       "      <td>7.013392e+06</td>\n",
       "      <td>7.103493e+06</td>\n",
       "      <td>0.987316</td>\n",
       "    </tr>\n",
       "  </tbody>\n",
       "</table>\n",
       "</div>"
      ],
      "text/plain": [
       "      report_year  plant_id_pudl  capacity_mw  net_generation_mwh   opex_fuel  \\\n",
       "1167         2007            236       991.64           6915236.0  59256251.0   \n",
       "1515         2008            236       991.58           6445976.0  56999047.0   \n",
       "1858         2009            236       972.85           7405733.0  72803775.0   \n",
       "2198         2010            236       972.85           4602948.0  64693238.0   \n",
       "2529         2011            236       972.85           6932566.0  64339588.0   \n",
       "2860         2012            236      1033.80           5602883.0  54438733.0   \n",
       "\n",
       "      opex_nonfuel  opex_allowances  opex_boiler  avg_num_employees  \\\n",
       "1167   100983818.0        1568348.0   15345478.0              432.0   \n",
       "1515   118198990.0        1619121.0   19409124.0              456.0   \n",
       "1858    83117386.0        1161292.0    8428191.0              454.0   \n",
       "2198   143555962.0         665839.0   39632395.0              394.0   \n",
       "2529   121714880.0         292584.0   18868442.0              407.0   \n",
       "2860   206567942.0          89350.0   45394450.0              492.0   \n",
       "\n",
       "      opex_electric  opex_engineering  opex_misc_power  opex_misc_steam  \\\n",
       "1167      2637837.0        16204272.0       35817259.0        3755137.0   \n",
       "1515      2882772.0        20025268.0       41614235.0        5051814.0   \n",
       "1858      2932955.0        11620825.0       39337257.0        3041756.0   \n",
       "2198      3034134.0        22657600.0       45278687.0        4675188.0   \n",
       "2529      3301312.0        10217228.0       72290502.0        5132130.0   \n",
       "2860      3088086.0        17413703.0       91667444.0        4703236.0   \n",
       "\n",
       "      opex_operations  opex_plants  opex_production_total  opex_rents  \\\n",
       "1167        1864418.0    1639943.0            160240069.0         0.0   \n",
       "1515        1933758.0    6069879.0            175198037.0         0.0   \n",
       "1858        2410468.0    1472575.0            155921161.0         0.0   \n",
       "2198        2622245.0    4219829.0            208249200.0         0.0   \n",
       "2529        3077218.0    2326594.0            186054468.0         0.0   \n",
       "2860        3165471.0   20746302.0            261006675.0         0.0   \n",
       "\n",
       "      opex_steam  opex_steam_other  opex_structures  opex_transfer  \\\n",
       "1167   7482168.0               0.0        9768378.0            0.0   \n",
       "1515   9905998.0               0.0        4255394.0            0.0   \n",
       "1858   6385438.0               0.0        1735373.0            0.0   \n",
       "2198  11122373.0               0.0        3993375.0            0.0   \n",
       "2529    224560.0               0.0        1933019.0            0.0   \n",
       "2860  11574131.0               0.0        4183063.0            0.0   \n",
       "\n",
       "      fuel_consumed_mmbtu  opex_fuel_per_mwh  opex_nonfuel_per_mwh  \\\n",
       "1167                  NaN           8.568941             14.603091   \n",
       "1515                  NaN           8.842578             18.336865   \n",
       "1858                  NaN           9.830732             11.223384   \n",
       "2198                  NaN          14.054740             31.187830   \n",
       "2529                  NaN           9.280775             17.556974   \n",
       "2860         7.103493e+06           9.716200             36.868152   \n",
       "\n",
       "      heat_rate_mmbtu_mwh  capacity_factor  opex_total_per_mwh  \\\n",
       "1167                  NaN         0.796066           23.172032   \n",
       "1515                  NaN         0.742090           27.179443   \n",
       "1858                  NaN         0.868997           21.054116   \n",
       "2198                  NaN         0.540115           45.242571   \n",
       "2529                  NaN         0.813475           26.837749   \n",
       "2860             1.267828         0.618687           46.584352   \n",
       "\n",
       "      utility_id_ferc1  utility_id_pudl          utility_name_ferc1  \\\n",
       "1167                17               97  Duke Energy Progress, Inc.   \n",
       "1515                17               97  Duke Energy Progress, Inc.   \n",
       "1858                17               97  Duke Energy Progress, Inc.   \n",
       "2198                17               97  Duke Energy Progress, Inc.   \n",
       "2529                17               97  Duke Energy Progress, Inc.   \n",
       "2860                17               97  Duke Energy Progress, Inc.   \n",
       "\n",
       "      plant_id_ferc1     plant_name plant_type  installation_year  \\\n",
       "1167              68  h.b. robinson    nuclear             1971.0   \n",
       "1515              68  h.b. robinson    nuclear             1971.0   \n",
       "1858              68  h.b. robinson    nuclear             1971.0   \n",
       "2198              68  h.b. robinson    nuclear             1971.0   \n",
       "2529              68  h.b. robinson    nuclear             1971.0   \n",
       "2860              68  h.b. robinson    nuclear             1971.0   \n",
       "\n",
       "      opex_per_mwh fuel_type_code_pudl    coal_mmbtu   total_mmbtu  \\\n",
       "1167          21.0                coal  3.561636e+07  3.569841e+07   \n",
       "1515          24.1                coal  3.108909e+07  3.115105e+07   \n",
       "1858          17.5                coal  2.915212e+07  2.917190e+07   \n",
       "2198          44.7                coal  3.056065e+07  3.059554e+07   \n",
       "2529          24.1                coal  1.715570e+07  1.722858e+07   \n",
       "2860          44.6                coal  7.013392e+06  7.103493e+06   \n",
       "\n",
       "      coal_fraction  \n",
       "1167       0.997702  \n",
       "1515       0.998011  \n",
       "1858       0.999322  \n",
       "2198       0.998859  \n",
       "2529       0.995770  \n",
       "2860       0.987316  "
      ]
     },
     "execution_count": 19,
     "metadata": {},
     "output_type": "execute_result"
    }
   ],
   "source": [
    "# Look at the anomolous nuclear plant - it's actually coal\n",
    "new[new.plant_type=='nuclear']"
   ]
  },
  {
   "cell_type": "code",
   "execution_count": null,
   "metadata": {},
   "outputs": [],
   "source": []
  },
  {
   "cell_type": "code",
   "execution_count": 20,
   "metadata": {},
   "outputs": [],
   "source": [
    "# Unique plants\n",
    "# steam_plants = new.sort_values('installation_year').drop_duplicates(subset=['capacity_mw', 'plant_name'], keep='last') # 1007 'plants'\n",
    "# ct = out_df_ct.sort_values('installation_year').drop_duplicates(subset=['plant_id_ferc1'], keep='last') # 584 'plants'\n",
    "# cc = out_df_cc.sort_values('installation_year').drop_duplicates(subset=['plant_id_ferc1'], keep='last') # 188 'plants'\n",
    "# ic = out_df_ic.sort_values('installation_year').drop_duplicates(subset=['plant_id_ferc1'], keep='last') # 147 'plants'\n",
    "# nuc = out_df_n.sort_values('installation_year').drop_duplicates(subset=['plant_id_ferc1'], keep='last') # 5 'plants'\n",
    "# pv = out_df_pv.sort_values('installation_year').drop_duplicates(subset=['plant_id_ferc1'], keep='last') # 3 'plants'\n"
   ]
  },
  {
   "cell_type": "code",
   "execution_count": 21,
   "metadata": {},
   "outputs": [],
   "source": [
    "# # Remove null values for variables of interest, for purposes of histogram plotting\n",
    "# steam_plants = steam_plants[steam_plants.construction_year.notnull()]\n",
    "new = new[new.installation_year.notnull()]\n",
    "new = new.loc[(new['installation_year'] > 1900)]\n",
    "new = new.loc[(new['capacity_factor']> 0)]\n",
    "\n",
    "# steam_plants = steam_plants[steam_plants.capacity_mw.notnull()]\n",
    "# steam_plants = steam_plants[steam_plants.heat_rate.notnull()]"
   ]
  },
  {
   "cell_type": "code",
   "execution_count": 22,
   "metadata": {},
   "outputs": [
    {
     "data": {
      "image/png": "[encoded data removed]",
      "text/plain": [
       "<Figure size 1500x900 with 1 Axes>"
      ]
     },
     "metadata": {},
     "output_type": "display_data"
    }
   ],
   "source": [
    "# Look at distribution of construction years vs. installation years.\n",
    "fig = plt.figure()\n",
    "\n",
    "plt.xlabel('Year')\n",
    "plt.ylabel('Number plants')\n",
    "plt.title('FERC 1 Steam Plants')\n",
    "\n",
    "# mpl.pyplot.hist(new.construction_year, bins = 117, range = [1900,2016], alpha=0.5, label='Construction year')\n",
    "mpl.pyplot.hist(new.installation_year, bins = 117, range = [1900,2016], alpha=0.5, label='Installation year')\n",
    "mpl.pyplot.legend(loc='upper right');"
   ]
  },
  {
   "cell_type": "code",
   "execution_count": 23,
   "metadata": {},
   "outputs": [
    {
     "data": {
      "image/png": "[encoded data removed]",
      "text/plain": [
       "<Figure size 1500x900 with 1 Axes>"
      ]
     },
     "metadata": {},
     "output_type": "display_data"
    }
   ],
   "source": [
    "# Look at distribution of construction years vs. installation years.\n",
    "fig = plt.figure()\n",
    "\n",
    "plt.xlabel('Non-fuel costs')\n",
    "plt.ylabel('Number of plants?')\n",
    "plt.title('FERC 1 Steam Plants')\n",
    "\n",
    "# mpl.pyplot.hist(new.construction_year, bins = 117, range = [1900,2016], alpha=0.5, label='Construction year')\n",
    "mpl.pyplot.hist(new.capacity_mw, bins = 100, alpha=0.5, label='Installation year')\n",
    "mpl.pyplot.legend(loc='upper right');"
   ]
  },
  {
   "cell_type": "code",
   "execution_count": 24,
   "metadata": {},
   "outputs": [
    {
     "data": {
      "image/png": "[encoded data removed]",
      "text/plain": [
       "<Figure size 1500x900 with 1 Axes>"
      ]
     },
     "metadata": {},
     "output_type": "display_data"
    }
   ],
   "source": [
    "plt.xlabel('Installation year')\n",
    "plt.ylabel('Capacity (MW)')\n",
    "plt.title('FERC 1 Steam Plants')\n",
    "# plt.legend()\n",
    "\n",
    "mpl.pyplot.hist2d(new.installation_year, new.capacity_mw, bins=117);\n",
    "\n",
    "# fig.colorbar(im);\n",
    "#1940 and forward, up to 3K megawatts, just steam - natural groupings?\n",
    "# install, constru, capacity, and HR then we should find groupings to work wtih."
   ]
  },
  {
   "cell_type": "code",
   "execution_count": 25,
   "metadata": {},
   "outputs": [
    {
     "data": {
      "text/plain": [
       "248"
      ]
     },
     "execution_count": 25,
     "metadata": {},
     "output_type": "execute_result"
    }
   ],
   "source": [
    "new.plant_id_pudl.nunique()"
   ]
  },
  {
   "cell_type": "code",
   "execution_count": null,
   "metadata": {},
   "outputs": [],
   "source": []
  },
  {
   "cell_type": "markdown",
   "metadata": {},
   "source": [
    "## Manual binning of construction year, installation year - regressions with statsmodel"
   ]
  },
  {
   "cell_type": "code",
   "execution_count": 26,
   "metadata": {},
   "outputs": [],
   "source": [
    "oldest = new.loc[(new['installation_year'] < 1956)]\n",
    "# older = new.loc[(new['installation_year'] >= 1946) & (new['installation_year']< 1956)]\n",
    "mid = new.loc[(new['installation_year'] >= 1956) & (new['installation_year']< 1966)]\n",
    "newer = new.loc[(new['installation_year'] >= 1966) & (new['installation_year']< 1986)]\n",
    "newest = new.loc[new['installation_year'] >= 1986]"
   ]
  },
  {
   "cell_type": "code",
   "execution_count": 27,
   "metadata": {},
   "outputs": [
    {
     "name": "stdout",
     "output_type": "stream",
     "text": [
      "R-squared = \n",
      "0.655688296164483\n",
      "\n",
      "Intercept            -7.479839e+06\n",
      "net_generation_mwh    2.266859e-01\n",
      "capacity_mw           4.440581e+04\n",
      "dtype: float64\n",
      "                            OLS Regression Results                            \n",
      "==============================================================================\n",
      "Dep. Variable:           opex_nonfuel   R-squared:                       0.656\n",
      "Model:                            OLS   Adj. R-squared:                  0.656\n",
      "Method:                 Least Squares   F-statistic:                     4092.\n",
      "Date:                Thu, 06 Jun 2019   Prob (F-statistic):               0.00\n",
      "Time:                        07:55:11   Log-Likelihood:                -82116.\n",
      "No. Observations:                4298   AIC:                         1.642e+05\n",
      "Df Residuals:                    4295   BIC:                         1.643e+05\n",
      "Df Model:                           2                                         \n",
      "Covariance Type:            nonrobust                                         \n",
      "======================================================================================\n",
      "                         coef    std err          t      P>|t|      [0.025      0.975]\n",
      "--------------------------------------------------------------------------------------\n",
      "Intercept           -7.48e+06      1e+06     -7.475      0.000   -9.44e+06   -5.52e+06\n",
      "net_generation_mwh     0.2267      0.261      0.869      0.385      -0.285       0.738\n",
      "capacity_mw         4.441e+04   1624.520     27.335      0.000    4.12e+04    4.76e+04\n",
      "==============================================================================\n",
      "Omnibus:                     3141.581   Durbin-Watson:                   0.588\n",
      "Prob(Omnibus):                  0.000   Jarque-Bera (JB):            85338.043\n",
      "Skew:                           3.189   Prob(JB):                         0.00\n",
      "Kurtosis:                      23.877   Cond. No.                     1.56e+07\n",
      "==============================================================================\n",
      "\n",
      "Warnings:\n",
      "[1] Standard Errors assume that the covariance matrix of the errors is correctly specified.\n",
      "[2] The condition number is large, 1.56e+07. This might indicate that there are\n",
      "strong multicollinearity or other numerical problems.\n"
     ]
    }
   ],
   "source": [
    "res = sm.OLS.from_formula(formula='opex_nonfuel ~ net_generation_mwh + capacity_mw', data=new).fit()\n",
    "\n",
    "# res = sm.OLS.from_formula(formula='opex_nonfuel ~ net_generation_mwh', data=oldest).fit()\n",
    "# res = sm.OLS.from_formula(formula='opex_nonfuel ~ capacity_mw', data=oldest).fit()\n",
    "\n",
    "\n",
    "# print(res.params)\n",
    "print(\"R-squared = \")\n",
    "print(res.rsquared_adj)\n",
    "print(\"\")\n",
    "print(res.params)\n",
    "print(res.summary())"
   ]
  },
  {
   "cell_type": "code",
   "execution_count": 28,
   "metadata": {},
   "outputs": [
    {
     "name": "stdout",
     "output_type": "stream",
     "text": [
      "R-squared = \n",
      "0.6604391132082154\n",
      "\n",
      "Intercept             1.005248e+06\n",
      "net_generation_mwh    5.924007e-01\n",
      "capacity_mw           3.565150e+04\n",
      "dtype: float64\n",
      "                            OLS Regression Results                            \n",
      "==============================================================================\n",
      "Dep. Variable:           opex_nonfuel   R-squared:                       0.662\n",
      "Model:                            OLS   Adj. R-squared:                  0.660\n",
      "Method:                 Least Squares   F-statistic:                     609.8\n",
      "Date:                Thu, 06 Jun 2019   Prob (F-statistic):          1.63e-147\n",
      "Time:                        07:55:12   Log-Likelihood:                -11385.\n",
      "No. Observations:                 627   AIC:                         2.278e+04\n",
      "Df Residuals:                     624   BIC:                         2.279e+04\n",
      "Df Model:                           2                                         \n",
      "Covariance Type:            nonrobust                                         \n",
      "======================================================================================\n",
      "                         coef    std err          t      P>|t|      [0.025      0.975]\n",
      "--------------------------------------------------------------------------------------\n",
      "Intercept           1.005e+06   1.02e+06      0.988      0.324   -9.93e+05       3e+06\n",
      "net_generation_mwh     0.5924      0.347      1.709      0.088      -0.088       1.273\n",
      "capacity_mw         3.565e+04   1880.489     18.959      0.000     3.2e+04    3.93e+04\n",
      "==============================================================================\n",
      "Omnibus:                      733.442   Durbin-Watson:                   1.476\n",
      "Prob(Omnibus):                  0.000   Jarque-Bera (JB):            56158.634\n",
      "Skew:                           5.689   Prob(JB):                         0.00\n",
      "Kurtosis:                      47.946   Cond. No.                     6.28e+06\n",
      "==============================================================================\n",
      "\n",
      "Warnings:\n",
      "[1] Standard Errors assume that the covariance matrix of the errors is correctly specified.\n",
      "[2] The condition number is large, 6.28e+06. This might indicate that there are\n",
      "strong multicollinearity or other numerical problems.\n"
     ]
    }
   ],
   "source": [
    "res = sm.OLS.from_formula(formula='opex_nonfuel ~ net_generation_mwh + capacity_mw', data=mid).fit()\n",
    "\n",
    "# res = sm.OLS.from_formula(formula='opex_nonfuel ~ net_generation_mwh', data=mid).fit()\n",
    "# res = sm.OLS.from_formula(formula='opex_nonfuel ~ capacity_mw', data=mid).fit()\n",
    "\n",
    "# print(res.params)\n",
    "print(\"R-squared = \")\n",
    "print(res.rsquared_adj)\n",
    "print(\"\")\n",
    "print(res.params)\n",
    "print(res.summary())\n"
   ]
  },
  {
   "cell_type": "code",
   "execution_count": 29,
   "metadata": {},
   "outputs": [
    {
     "name": "stdout",
     "output_type": "stream",
     "text": [
      "R-squared = \n",
      "0.7582131558861599\n",
      "\n",
      "Intercept             4.259000e+06\n",
      "net_generation_mwh   -1.675723e+00\n",
      "capacity_mw           4.021040e+04\n",
      "dtype: float64\n"
     ]
    }
   ],
   "source": [
    "res = sm.OLS.from_formula(formula='opex_nonfuel ~ net_generation_mwh + capacity_mw', data=newer).fit()\n",
    "\n",
    "# res = sm.OLS.from_formula(formula='opex_nonfuel ~ net_generation_mwh', data=newer).fit()\n",
    "# res = sm.OLS.from_formula(formula='opex_nonfuel ~ capacity_mw', data=newer).fit()\n",
    "\n",
    "# print(res.params)\n",
    "print(\"R-squared = \")\n",
    "print(res.rsquared_adj)\n",
    "print(\"\")\n",
    "print(res.params)"
   ]
  },
  {
   "cell_type": "code",
   "execution_count": 30,
   "metadata": {
    "scrolled": false
   },
   "outputs": [
    {
     "name": "stdout",
     "output_type": "stream",
     "text": [
      "R-squared = \n",
      "0.8478313804037859\n",
      "\n",
      "Intercept     -2.156691e+07\n",
      "capacity_mw    7.756056e+04\n",
      "dtype: float64\n"
     ]
    }
   ],
   "source": [
    "# res = sm.OLS.from_formula(formula='opex_nonfuel ~ net_generation_mwh + capacity_mw', data=newest).fit()\n",
    "\n",
    "# res = sm.OLS.from_formula(formula='opex_nonfuel ~ net_generation_mwh', data=newest).fit()\n",
    "res = sm.OLS.from_formula(formula='opex_nonfuel ~ capacity_mw', data=newest).fit()\n",
    "\n",
    "\n",
    "# print(res.params)\n",
    "print(\"R-squared = \")\n",
    "print(res.rsquared_adj)\n",
    "print(\"\")\n",
    "print(res.params)"
   ]
  },
  {
   "cell_type": "markdown",
   "metadata": {},
   "source": [
    "## sklearn regressions"
   ]
  },
  {
   "cell_type": "code",
   "execution_count": 31,
   "metadata": {},
   "outputs": [],
   "source": [
    "from sklearn import preprocessing\n",
    "from sklearn.linear_model import LinearRegression\n",
    "from sklearn.model_selection import train_test_split"
   ]
  },
  {
   "cell_type": "code",
   "execution_count": 32,
   "metadata": {},
   "outputs": [
    {
     "name": "stderr",
     "output_type": "stream",
     "text": [
      "/home/alana/anaconda3/lib/python3.6/site-packages/pandas/core/generic.py:6120: SettingWithCopyWarning: \n",
      "A value is trying to be set on a copy of a slice from a DataFrame\n",
      "\n",
      "See the caveats in the documentation: http://pandas.pydata.org/pandas-docs/stable/indexing.html#indexing-view-versus-copy\n",
      "  self._update_inplace(new_data)\n"
     ]
    }
   ],
   "source": [
    "train, test = train_test_split(new,test_size=0.2)\n",
    "# train.fillna(train.mean(), inplace=True)\n",
    "# train=train.astype('float16')\n",
    "\n",
    "# test.fillna(test.mean(), inplace=True)\n",
    "# test=test.astype('float16')\n",
    "\n",
    "features = ['installation_year', 'heat_rate_mmbtu_mwh', 'capacity_mw', 'capacity_factor', 'opex_fuel_per_mwh','net_generation_mwh']\n",
    "#features = ['installation_year', 'capacity_mw', 'capacity_factor', 'net_generation_mwh']\n",
    "\n",
    "y_var='opex_nonfuel'\n",
    "x_train = train[features]\n",
    "x_train.fillna(x_train.mean(), inplace=True)\n",
    "x_train=x_train.astype('float32')\n",
    "# divided the dollar amount by a million\n",
    "y_train = train[y_var]/1000000\n",
    "y_train.fillna(y_train.mean(), inplace=True)\n",
    "y_train=y_train.astype('float32')\n",
    "\n",
    "# for testing\n",
    "x_test = test[features]\n",
    "x_test.fillna(x_test.mean(), inplace=True)\n",
    "x_test= x_test.astype('float32')\n",
    "\n",
    "y_test = test[y_var]/1000000\n",
    "y_test.fillna(y_test.mean(), inplace=True)\n",
    "y_test = y_test.astype('float32')"
   ]
  },
  {
   "cell_type": "markdown",
   "metadata": {},
   "source": [
    "## scaling the variables"
   ]
  },
  {
   "cell_type": "code",
   "execution_count": 33,
   "metadata": {},
   "outputs": [
    {
     "name": "stderr",
     "output_type": "stream",
     "text": [
      "/home/alana/anaconda3/lib/python3.6/site-packages/sklearn/preprocessing/data.py:323: DataConversionWarning: Data with input dtype float32 were all converted to float64 by MinMaxScaler.\n",
      "  return self.partial_fit(X, y)\n"
     ]
    }
   ],
   "source": [
    "min_max_scaler = preprocessing.MinMaxScaler()\n",
    "# make sure that the scaler is applied to each col separately\n",
    "x_train_scaled = min_max_scaler.fit_transform(x_train)\n",
    "x_test_scaled = min_max_scaler.transform(x_test)"
   ]
  },
  {
   "cell_type": "code",
   "execution_count": 34,
   "metadata": {},
   "outputs": [
    {
     "data": {
      "text/plain": [
       "0.0015413346623559991"
      ]
     },
     "execution_count": 34,
     "metadata": {},
     "output_type": "execute_result"
    }
   ],
   "source": [
    "(x_train_scaled[:,1]).mean()"
   ]
  },
  {
   "cell_type": "code",
   "execution_count": 35,
   "metadata": {
    "scrolled": true
   },
   "outputs": [
    {
     "name": "stdout",
     "output_type": "stream",
     "text": [
      "R^2 of the prediction is 0.7016583843830411\n",
      "The importance of  installation_year ------- 43.545\n",
      "The importance of  heat_rate_mmbtu_mwh ------- -4177.398\n",
      "The importance of  capacity_mw ------- 336.523\n",
      "The importance of  capacity_factor ------- -65.58\n",
      "The importance of  opex_fuel_per_mwh ------- 4161.147\n",
      "The importance of  net_generation_mwh ------- 75.077\n"
     ]
    }
   ],
   "source": [
    "reg = linear_model.LinearRegression()\n",
    "reg.fit(x_train_scaled,y_train)\n",
    "\n",
    "f=reg.coef_\n",
    "#f=regressorAirTemp.feature_importances_\n",
    "\n",
    "# Returns the coefficient of determination R^2 of the prediction.\n",
    "r2_model2=reg.score(x_test_scaled, y_test)\n",
    "\n",
    "# printing the results of the regression\n",
    "print ('R^2 of the prediction is {0}'.format(r2_model2))\n",
    "for i in range(0,len(f)):\n",
    "    print ('The importance of ', features[i],'-------',round(f[i],3))"
   ]
  },
  {
   "cell_type": "code",
   "execution_count": 36,
   "metadata": {},
   "outputs": [],
   "source": [
    "## Extra random forest"
   ]
  },
  {
   "cell_type": "code",
   "execution_count": 37,
   "metadata": {},
   "outputs": [
    {
     "name": "stdout",
     "output_type": "stream",
     "text": [
      "R^2 of the prediction is 0.968649988861349\n",
      "The importance of  installation_year ------- 0.147\n",
      "The importance of  heat_rate_mmbtu_mwh ------- 0.012\n",
      "The importance of  capacity_mw ------- 0.599\n",
      "The importance of  capacity_factor ------- 0.021\n",
      "The importance of  opex_fuel_per_mwh ------- 0.029\n",
      "The importance of  net_generation_mwh ------- 0.191\n"
     ]
    }
   ],
   "source": [
    "# Overfits the data?\n",
    "\n",
    "from sklearn.ensemble import ExtraTreesRegressor\n",
    "reg = ExtraTreesRegressor(n_estimators=200,min_samples_split=5,max_depth=200,random_state=0)\n",
    "reg.fit(x_train_scaled, y_train)\n",
    "\n",
    "f=reg.feature_importances_\n",
    "\n",
    "# Returns the coefficient of determination R^2 of the prediction.\n",
    "r2_model2=reg.score(x_test_scaled, y_test)\n",
    "\n",
    "# printing the results of the regression\n",
    "print ('R^2 of the prediction is {0}'.format(r2_model2))\n",
    "for i in range(0,len(f)):\n",
    "    print ('The importance of ', features[i],'-------',round(f[i],3))"
   ]
  },
  {
   "cell_type": "code",
   "execution_count": 38,
   "metadata": {},
   "outputs": [],
   "source": [
    "# Unscale the data\n",
    "# y_new_inverse = scalery.inverse_transform(y_new)"
   ]
  },
  {
   "cell_type": "markdown",
   "metadata": {},
   "source": [
    "## statmodel"
   ]
  },
  {
   "cell_type": "code",
   "execution_count": 39,
   "metadata": {},
   "outputs": [
    {
     "name": "stdout",
     "output_type": "stream",
     "text": [
      "                            OLS Regression Results                            \n",
      "==============================================================================\n",
      "Dep. Variable:           opex_nonfuel   R-squared:                       0.656\n",
      "Model:                            OLS   Adj. R-squared:                  0.655\n",
      "Method:                 Least Squares   F-statistic:                     1091.\n",
      "Date:                Thu, 06 Jun 2019   Prob (F-statistic):               0.00\n",
      "Time:                        07:55:14   Log-Likelihood:                -18217.\n",
      "No. Observations:                3438   AIC:                         3.645e+04\n",
      "Df Residuals:                    3431   BIC:                         3.649e+04\n",
      "Df Model:                           6                                         \n",
      "Covariance Type:            nonrobust                                         \n",
      "==============================================================================\n",
      "                 coef    std err          t      P>|t|      [0.025      0.975]\n",
      "------------------------------------------------------------------------------\n",
      "const         -8.8506      3.749     -2.361      0.018     -16.200      -1.501\n",
      "x1            43.5448      4.881      8.922      0.000      33.976      53.114\n",
      "x2         -4177.3977   1171.287     -3.567      0.000   -6473.888   -1880.907\n",
      "x3           336.5229     21.008     16.019      0.000     295.333     377.713\n",
      "x4           -65.5796     16.697     -3.928      0.000     -98.317     -32.842\n",
      "x5          4161.1474   1171.120      3.553      0.000    1864.984    6457.310\n",
      "x6            75.0775     25.274      2.971      0.003      25.524     124.631\n",
      "==============================================================================\n",
      "Omnibus:                     2288.466   Durbin-Watson:                   1.973\n",
      "Prob(Omnibus):                  0.000   Jarque-Bera (JB):            49089.123\n",
      "Skew:                           2.845   Prob(JB):                         0.00\n",
      "Kurtosis:                      20.615   Cond. No.                     2.27e+03\n",
      "==============================================================================\n",
      "\n",
      "Warnings:\n",
      "[1] Standard Errors assume that the covariance matrix of the errors is correctly specified.\n",
      "[2] The condition number is large, 2.27e+03. This might indicate that there are\n",
      "strong multicollinearity or other numerical problems.\n"
     ]
    }
   ],
   "source": [
    "# model = sm.OLS(y_train,x_train_scaled)\n",
    "X2 = sm.add_constant(x_train_scaled)\n",
    "model=sm.OLS(y_train, X2)\n",
    "results = model.fit()\n",
    "print(results.summary())"
   ]
  },
  {
   "cell_type": "markdown",
   "metadata": {},
   "source": [
    "# Further/future regression exlorations - scratch"
   ]
  },
  {
   "cell_type": "code",
   "execution_count": 40,
   "metadata": {},
   "outputs": [],
   "source": [
    "# # Set up variables for OLS regression \n",
    "\n",
    "# # X = new[[\"net_generation_mwh\", \"heat_rate\"]]\n",
    "# X = new[[\"capacity_mw\", \"net_generation_mwh\"]]\n",
    "# # X = new[[\"non_fuel_costs\"]]\n",
    "# # X = new[[\"expns_fuel\"]]\n",
    "\n",
    "# # y = new[\"opex_fuel\"]\n",
    "# # y = new[[\"non_fuel_costs\"]]\n",
    "# y = new[[\"opex_nonfuel\"]]\n",
    "\n",
    "# # y = new[[\"net_generation_mwh\"]]\n",
    "\n",
    "\n",
    "# X = sm.add_constant(X) ## add an intercept\n",
    "\n",
    "# model = sm.OLS(y, X).fit()\n",
    "# predictions = model.predict(X) # make the predictions by the model\n",
    "\n",
    "# # Print out the statistics\n",
    "# model.summary()"
   ]
  },
  {
   "cell_type": "code",
   "execution_count": 41,
   "metadata": {},
   "outputs": [],
   "source": [
    "# # Use sklearn linear_model to fit the same regression\n",
    "# lm = linear_model.LinearRegression()\n",
    "# model = lm.fit(X,y)\n",
    "# predictions = lm.predict(X)\n",
    "# # print(predictions)[0:5]\n",
    "# lm.score(X,y)"
   ]
  },
  {
   "cell_type": "code",
   "execution_count": 42,
   "metadata": {},
   "outputs": [],
   "source": [
    "# scipy.stats.linregress(out_df.net_generation_mwh, out_df.non_fuel_costs)"
   ]
  },
  {
   "cell_type": "code",
   "execution_count": 43,
   "metadata": {},
   "outputs": [],
   "source": [
    "# from sklearn.linear_model import LinearRegression, Lasso, Ridge, ElasticNet, SGDRegressor\n",
    "# from sklearn.model_selection import train_test_split"
   ]
  },
  {
   "cell_type": "code",
   "execution_count": 44,
   "metadata": {},
   "outputs": [],
   "source": [
    "# x = out_df.net_generation_mwh\n",
    "# y = out_df.non_fuel_costs\n",
    "# x_reshape = out_df_s.net_generation_mwh.values.reshape(-1,1)\n",
    "# y_reshape = out_df_s.non_fuel_costs.values.reshape(-1,1)"
   ]
  },
  {
   "cell_type": "code",
   "execution_count": 45,
   "metadata": {
    "scrolled": false
   },
   "outputs": [],
   "source": [
    "# intercept, slope, corr_coeff = plot_linear_regression(x_reshape, y_reshape)\n",
    "# plt.show()\n"
   ]
  },
  {
   "cell_type": "code",
   "execution_count": 46,
   "metadata": {},
   "outputs": [],
   "source": [
    "# plt.plot(x,y,'.')\n",
    "# plt.title('FERC 1 steam records')\n",
    "# plt.xlabel('net generation (mwh)')\n",
    "# plt.ylabel('non-fuel costs')"
   ]
  },
  {
   "cell_type": "code",
   "execution_count": 47,
   "metadata": {},
   "outputs": [],
   "source": [
    "### Exploration of other approaches..."
   ]
  },
  {
   "cell_type": "code",
   "execution_count": 48,
   "metadata": {},
   "outputs": [],
   "source": [
    "# x_train, x_test, y_train, y_test = train_test_split(x, y, test_size= 0.2, random_state=0)"
   ]
  },
  {
   "cell_type": "code",
   "execution_count": 49,
   "metadata": {},
   "outputs": [],
   "source": [
    "# x_train= x_train.values.reshape(-1, 1)\n",
    "# y_train= y_train.values.reshape(-1, 1)\n",
    "# x_test = x_test.values.reshape(-1, 1)"
   ]
  },
  {
   "cell_type": "code",
   "execution_count": 50,
   "metadata": {},
   "outputs": [],
   "source": [
    "# ridge = Ridge(fit_intercept=True, alpha=0.5)"
   ]
  },
  {
   "cell_type": "code",
   "execution_count": 51,
   "metadata": {},
   "outputs": [],
   "source": [
    "# ridge.fit(x_reshape,y_reshape)"
   ]
  },
  {
   "cell_type": "code",
   "execution_count": 52,
   "metadata": {},
   "outputs": [],
   "source": [
    "# sklearn.linear_model.Ridge(alpha=1.0, fit_intercept=True, normalize=False, copy_X=True, max_iter=None, tol=0.001, solver='auto', random_state=None)\n",
    "# ferc1_training_steam.net_generation_mwh, ferc1_training_steam.non_fuel_costs)"
   ]
  },
  {
   "cell_type": "code",
   "execution_count": 53,
   "metadata": {},
   "outputs": [],
   "source": [
    "# clf = sklearn.linear_model.Ridge(alpha=1)\n",
    "# clf = sklearn.linear_model.Ridge(alpha=1, copy_X=True, fit_intercept=True, max_iter=None, normalize=False, random_state=None, solver='auto', tol=0.001)\n",
    "\n",
    "# clf.fit(x_reshape, y_reshape)\n",
    "# Ridge(alpha=1, copy_X=True, fit_intercept=True, max_iter=None,normalize=False, random_state=None, solver='auto', tol=0.001)"
   ]
  },
  {
   "cell_type": "code",
   "execution_count": 54,
   "metadata": {},
   "outputs": [],
   "source": [
    "# result = clf.fit(x_reshape, y_reshape, sample_weight=None)"
   ]
  },
  {
   "cell_type": "code",
   "execution_count": 55,
   "metadata": {},
   "outputs": [],
   "source": [
    "# clf.score(x_reshape,y_reshape)"
   ]
  },
  {
   "cell_type": "code",
   "execution_count": 56,
   "metadata": {},
   "outputs": [],
   "source": [
    "# result.get_params()"
   ]
  }
 ],
 "metadata": {
  "kernelspec": {
   "display_name": "Python 3",
   "language": "python",
   "name": "python3"
  },
  "language_info": {
   "codemirror_mode": {
    "name": "ipython",
    "version": 3
   },
   "file_extension": ".py",
   "mimetype": "text/x-python",
   "name": "python",
   "nbconvert_exporter": "python",
   "pygments_lexer": "ipython3",
   "version": "3.7.3"
  }
 },
 "nbformat": 4,
 "nbformat_minor": 2
}
