{
 "cells": [
  {
   "cell_type": "code",
   "execution_count": 16,
   "metadata": {},
   "outputs": [
    {
     "name": "stdout",
     "output_type": "stream",
     "text": [
      "The autoreload extension is already loaded. To reload it, use:\n",
      "  %reload_ext autoreload\n"
     ]
    }
   ],
   "source": [
    "%load_ext autoreload\n",
    "%autoreload 2\n",
    "%matplotlib inline\n",
    "import pandas as pd\n",
    "import numpy as np\n",
    "\n",
    "import pudl\n",
    "from pudl import init\n",
    "import tableschema\n",
    "import hashlib\n",
    "import datapackage\n",
    "import json\n",
    "from tableschema import Table\n",
    "from tableschema import Schema"
   ]
  },
  {
   "cell_type": "code",
   "execution_count": 7,
   "metadata": {},
   "outputs": [],
   "source": [
    "from sqlalchemy.engine import reflection\n",
    "pudl_engine = init.connect_db(testing=False)\n",
    "insp = reflection.Inspector.from_engine(pudl_engine)\n",
    "# extract the table names\n",
    "tbls = insp.get_table_names()\n",
    "# extract only the ferc tables\n",
    "ferc_tbls = [s for s in tbls if \"ferc\" in s]"
   ]
  },
  {
   "cell_type": "markdown",
   "metadata": {},
   "source": [
    "If you want to generate the package for just ferc as an example, you can use the commented out ferc options below."
   ]
  },
  {
   "cell_type": "code",
   "execution_count": 14,
   "metadata": {},
   "outputs": [],
   "source": [
    "name = \"pudl-test\"\n",
    "title = \"All tables integrated into PUDL.\"\n",
    "tbls = tbls\n",
    "\n",
    "#name = \"pudl-ferc1\"\n",
    "#title =  \"FERC Form 1 tables integrated into PUDL.\"\n",
    "#tbls = ferc_tbls"
   ]
  },
  {
   "cell_type": "code",
   "execution_count": 13,
   "metadata": {},
   "outputs": [],
   "source": [
    "# we need this as the main info regarding this iteration of packaging\n",
    "pkg_skeleton = {\n",
    "    \"name\": name,\n",
    "    \"title\": title,\n",
    "    \"description\": \"Tables collected from FERC Form 1, as they appear in our database, with all dependent tables. Allows the user to instantiate their own local database.\",\n",
    "    \"keywords\": [\n",
    "        \"ferc\",\n",
    "        \"form 1\",\n",
    "        \"energy\",\n",
    "        \"electricity\",\n",
    "        \"utility\",\n",
    "        \"fuel\",\n",
    "        \"expenses\",\n",
    "        \"coal\",\n",
    "        \"natural gas\",\n",
    "        \"generation\",\n",
    "        \"regulation\"\n",
    "    ]\n",
    "}"
   ]
  },
  {
   "cell_type": "markdown",
   "metadata": {},
   "source": [
    "this will generate metadata and csv's for every table in pudl. they will live in `results/data_pkgs`"
   ]
  },
  {
   "cell_type": "code",
   "execution_count": 9,
   "metadata": {},
   "outputs": [],
   "source": [
    "pkg = pudl.output.export.data_package(tbls,pkg_skeleton)"
   ]
  },
  {
   "cell_type": "code",
   "execution_count": null,
   "metadata": {},
   "outputs": [],
   "source": []
  },
  {
   "cell_type": "markdown",
   "metadata": {},
   "source": [
    "here we are pulling the list of dependent tables based on the generated metadata"
   ]
  },
  {
   "cell_type": "code",
   "execution_count": 28,
   "metadata": {},
   "outputs": [],
   "source": [
    "dependent_tbls = pudl.helpers.get_dependent_tables_from_list_pkg(ferc_tbls,pkg_name=name)"
   ]
  },
  {
   "cell_type": "code",
   "execution_count": 29,
   "metadata": {},
   "outputs": [
    {
     "data": {
      "text/plain": [
       "{'accumulated_depreciation_ferc1',\n",
       " 'ferc_accounts',\n",
       " 'ferc_depreciation_lines',\n",
       " 'fuel_ferc1',\n",
       " 'plant_in_service_ferc1',\n",
       " 'plants',\n",
       " 'plants_ferc',\n",
       " 'plants_hydro_ferc1',\n",
       " 'plants_pumped_storage_ferc1',\n",
       " 'plants_small_ferc1',\n",
       " 'plants_steam_ferc1',\n",
       " 'purchased_power_ferc1',\n",
       " 'utilities',\n",
       " 'utilities_ferc'}"
      ]
     },
     "execution_count": 29,
     "metadata": {},
     "output_type": "execute_result"
    }
   ],
   "source": [
    "dependent_tbls"
   ]
  },
  {
   "cell_type": "code",
   "execution_count": null,
   "metadata": {},
   "outputs": [],
   "source": []
  }
 ],
 "metadata": {
  "kernelspec": {
   "display_name": "Python 3",
   "language": "python",
   "name": "python3"
  },
  "language_info": {
   "codemirror_mode": {
    "name": "ipython",
    "version": 3
   },
   "file_extension": ".py",
   "mimetype": "text/x-python",
   "name": "python",
   "nbconvert_exporter": "python",
   "pygments_lexer": "ipython3",
   "version": "3.6.8"
  }
 },
 "nbformat": 4,
 "nbformat_minor": 2
}
